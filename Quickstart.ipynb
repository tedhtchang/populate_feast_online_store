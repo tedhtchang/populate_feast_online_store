{
 "cells": [
  {
   "cell_type": "markdown",
   "id": "68ed5ec9",
   "metadata": {},
   "source": [
    "## Running Feast Online Feature Store in a Kubernetes Cluster\n",
    "This notebook example is used with this [demo](https://github.com/tedhtchang/populate_feast_online_store) to populate a Feast Online store and run Feast Online Serving REST API server in a Kubernetes Cluster.\n",
    "\n",
    "Note: This notebook can be run inside a Kubercluster or locally."
   ]
  },
  {
   "cell_type": "markdown",
   "id": "c0245b17",
   "metadata": {},
   "source": [
    "## Clone the feature repository"
   ]
  },
  {
   "cell_type": "code",
   "execution_count": null,
   "id": "5dc994a6",
   "metadata": {},
   "outputs": [],
   "source": [
    "# The driver_rank_repo on github is acting as the source of truth for feature repository\n",
    "!git clone https://github.com/tedhtchang/driver_rank_repo"
   ]
  },
  {
   "cell_type": "code",
   "execution_count": null,
   "id": "2a5c1290",
   "metadata": {
    "scrolled": true
   },
   "outputs": [],
   "source": [
    "!pip install feast feast[redis] feast[aws]"
   ]
  },
  {
   "cell_type": "markdown",
   "id": "cecfad38",
   "metadata": {},
   "source": [
    "Feast SDK/CLI can run as a standalone feature store without any requirement. Please visit [here](https://docs.feast.dev/quickstart) for detail."
   ]
  },
  {
   "cell_type": "code",
   "execution_count": null,
   "id": "11c7ae4d",
   "metadata": {
    "scrolled": true
   },
   "outputs": [],
   "source": [
    "!feast --help"
   ]
  },
  {
   "cell_type": "markdown",
   "id": "3769b750",
   "metadata": {},
   "source": [
    "## Inside the feature repository"
   ]
  },
  {
   "cell_type": "markdown",
   "id": "3d68692a",
   "metadata": {},
   "source": [
    "We have already initialized the feature repository but if you changed the repo config file (feature_store.yaml) and feature definitions (driver_repo.py). Please re-run the `feast apply` \n",
    "```\n",
    ".\n",
    "├── data\n",
    "│   ├── driver_stats.parquet\n",
    "│   └── registry.db\n",
    "├── driver_repo.py\n",
    "└── feature_store.yaml\n",
    "\n",
    "1 directory, 4 files\n",
    "```"
   ]
  },
  {
   "cell_type": "code",
   "execution_count": null,
   "id": "45219f9d",
   "metadata": {},
   "outputs": [],
   "source": [
    "# If you update the feature_store.yaml or the feature definition py, re-run feast apply.\n",
    "!feast -c ./driver_rank_repo apply"
   ]
  },
  {
   "cell_type": "markdown",
   "id": "27495f49",
   "metadata": {},
   "source": [
    "### feature_store.yaml\n",
    "```\n",
    "project: driver_ranking\n",
    "registry: data/registry.db\n",
    "provider: local\n",
    "online_store:\n",
    "  type: redis\n",
    "  connection_string: \"redis-service.default.svc.cluster.local:6379\n",
    "```\n",
    "If you are running the notebook from outside of the cluster determine the external IP address of the connection string using this [method]()."
   ]
  },
  {
   "cell_type": "markdown",
   "id": "c15e4613",
   "metadata": {},
   "source": [
    "### driver_repo.py\n",
    "```\n",
    "from datetime import timedelta\n",
    "from feast import FileSource, Entity, Feature, FeatureView, ValueType\n",
    "driver = Entity(name=\"driver_id\", join_key=\"driver_id\", value_type=ValueType.INT64,)\n",
    "\n",
    "driver_stats_source = FileSource(\n",
    "    path=\"driver_rank_repo/data/driver_stats.parquet\",\n",
    "    event_timestamp_column=\"event_timestamp\",\n",
    "    created_timestamp_column=\"created\",\n",
    ")\n",
    "\n",
    "driver_stats_fv = FeatureView(\n",
    "    name=\"driver_hourly_stats\",\n",
    "    entities=[\"driver_id\"],\n",
    "    ttl=timedelta(weeks=52),\n",
    "    features=[\n",
    "        Feature(name=\"conv_rate\", dtype=ValueType.FLOAT),\n",
    "        Feature(name=\"acc_rate\", dtype=ValueType.FLOAT),\n",
    "        Feature(name=\"avg_daily_trips\", dtype=ValueType.INT64),\n",
    "    ],\n",
    "    batch_source=driver_stats_source,\n",
    "    tags={\"team\": \"driver_performance\"},\n",
    ")\n",
    "```"
   ]
  },
  {
   "cell_type": "markdown",
   "id": "14f49c24",
   "metadata": {},
   "source": [
    "Feast can be configure to read and registry.db offline data from S3. Please see [here]() for detail."
   ]
  },
  {
   "cell_type": "markdown",
   "id": "a6f2f203",
   "metadata": {},
   "source": [
    "## Move the features from Offline to Online store (materialize)"
   ]
  },
  {
   "cell_type": "code",
   "execution_count": null,
   "id": "2802805a",
   "metadata": {},
   "outputs": [],
   "source": [
    "!feast -c ./driver_rank_repo materialize 2021-08-03T03:03:07 $(date -u +\"%Y-%m-%dT%H:%M:%S\")"
   ]
  },
  {
   "cell_type": "markdown",
   "id": "b5fff913",
   "metadata": {},
   "source": [
    "This is it. You have moved the offline features into the online store!"
   ]
  },
  {
   "cell_type": "markdown",
   "id": "1d39ebc3",
   "metadata": {},
   "source": [
    "## Initializing Feast SDK\n",
    "The Feast SDK can be initialized this way. You will need to provide a connection_string (Redis server External IP/hostname. See [here]() for detail) that is accessible from where the notebook is running. "
   ]
  },
  {
   "cell_type": "code",
   "execution_count": null,
   "id": "5890298b",
   "metadata": {},
   "outputs": [],
   "source": [
    "import os\n",
    "from pprint import pprint\n",
    "from feast import FeatureStore, RepoConfig\n",
    "from feast.infra.online_stores.redis import RedisOnlineStoreConfig\n",
    "\n",
    "store = FeatureStore(\n",
    "config = RepoConfig(\n",
    "                registry = os.path.join(os.getcwd(), \"./driver_rank_repo/data/registry.db\"),\n",
    "                project = \"driver_ranking\",\n",
    "                provider = \"local\",\n",
    "                online_store = RedisOnlineStoreConfig(\n",
    "                    connection_string = \"redis-service.default.svc.cluster.local:6379\")\n",
    "            \n",
    "            )\n",
    "        )"
   ]
  },
  {
   "cell_type": "markdown",
   "id": "c301ba41",
   "metadata": {},
   "source": [
    "## Get Historical Features for batch training"
   ]
  },
  {
   "cell_type": "code",
   "execution_count": null,
   "id": "d6c9a1f5",
   "metadata": {
    "scrolled": true
   },
   "outputs": [],
   "source": [
    "from datetime import datetime\n",
    "\n",
    "import pandas as pd\n",
    "\n",
    "from feast import FeatureStore\n",
    "\n",
    "entity_df = pd.DataFrame.from_dict(\n",
    "    {\n",
    "        \"driver_id\": [1001, 1002, 1003, 1004, 1005],\n",
    "        \"event_timestamp\": [\n",
    "            datetime(2021, 8, 12, 10, 59, 42),\n",
    "            datetime(2021, 8, 12, 8, 12, 10),\n",
    "            datetime(2021, 8, 12, 16, 40, 26),\n",
    "            datetime(2021, 8, 12, 15, 1, 12),\n",
    "            datetime(2021, 8, 12, 15, 1, 12),\n",
    "        ],\n",
    "    }\n",
    ")\n",
    "\n",
    "training_df = store.get_historical_features(\n",
    "    entity_df=entity_df,\n",
    "    features=[\n",
    "        \"driver_hourly_stats:conv_rate\",\n",
    "        \"driver_hourly_stats:acc_rate\",\n",
    "        \"driver_hourly_stats:avg_daily_trips\",\n",
    "    ],\n",
    ").to_df()\n",
    "\n",
    "print(training_df.head())"
   ]
  },
  {
   "cell_type": "markdown",
   "id": "27fe0e9d",
   "metadata": {},
   "source": [
    "## Online features from the Online Store using SDK"
   ]
  },
  {
   "cell_type": "code",
   "execution_count": null,
   "id": "31382611",
   "metadata": {},
   "outputs": [],
   "source": [
    "\n",
    "feature_vector = store.get_online_features(\n",
    "    features=[\n",
    "        \"driver_hourly_stats:conv_rate\",\n",
    "        \"driver_hourly_stats:acc_rate\",\n",
    "        \"driver_hourly_stats:avg_daily_trips\",\n",
    "    ],\n",
    "    entity_rows=[{\"driver_id\": 1002}],\n",
    ").to_dict()\n",
    "\n",
    "pprint(feature_vector)\n"
   ]
  },
  {
   "cell_type": "markdown",
   "id": "1e632cea",
   "metadata": {},
   "source": [
    "## Online features from the Feature Server Service using REST API"
   ]
  },
  {
   "cell_type": "code",
   "execution_count": null,
   "id": "6a32eebd",
   "metadata": {},
   "outputs": [],
   "source": [
    "!curl -X GET \"http://feature-server-service:6566/get-online-features/\" -H \"Content-type: application/json\" -H \"Accept: application/json\" -d '{\"features\": [\"driver_hourly_stats:conv_rate\",\"driver_hourly_stats:acc_rate\",\"driver_hourly_stats:avg_daily_trips\"],\"entities\": {\"driver_id\": [1001, 1002, 1003]},\"full_feature_names\": true}'|jq"
   ]
  }
 ],
 "metadata": {
  "kernelspec": {
   "display_name": "Python 3 (ipykernel)",
   "language": "python",
   "name": "python3"
  },
  "language_info": {
   "codemirror_mode": {
    "name": "ipython",
    "version": 3
   },
   "file_extension": ".py",
   "mimetype": "text/x-python",
   "name": "python",
   "nbconvert_exporter": "python",
   "pygments_lexer": "ipython3",
   "version": "3.9.6"
  }
 },
 "nbformat": 4,
 "nbformat_minor": 5
}
